{
 "cells": [
  {
   "cell_type": "markdown",
   "metadata": {
    "collapsed": true
   },
   "source": [
    "# Week 5 Discussion\n",
    "\n",
    "## Infographic\n",
    "\n",
    "* [How the Circle Line rogue train was caught with data][train]\n",
    "\n",
    "[train]: https://blog.data.gov.sg/how-we-caught-the-circle-line-rogue-train-with-data-79405c86ab6a\n",
    "\n",
    "## Links\n",
    "\n",
    "* [UC Irvine Machine Learning Repository][uci] -- many small datasets for testing ML methods\n",
    "* [MLData][] -- more datasets for testing ML methods\n",
    "\n",
    "[uci]: https://archive.ics.uci.edu/ml\n",
    "[MLData]: http://mldata.org/\n",
    "\n",
    "## Notes"
   ]
  },
  {
   "cell_type": "markdown",
   "metadata": {},
   "source": [
    "### The Python Machine Learning Landscape\n",
    "\n",
    "The leading Python package for statistics is [statsmodels][] and machine learning is [scikit-learn][].\n",
    "\n",
    "There are many packages for neural networks. The [top three](https://github.com/thedataincubator/data-science-blogs) are:\n",
    "\n",
    "1. [keras][]/sonnet/tensorflow, backed by Google\n",
    "2. [caffe2][]/caffe, backed by Facebook\n",
    "3. [pytorch][], backed by Facebook\n",
    "\n",
    "[statsmodels]: http://www.statsmodels.org/\n",
    "[scikit-learn]: http://scikit-learn.org/\n",
    "[keras]: https://keras.io/\n",
    "[caffe2]: https://caffe2.ai/\n",
    "[pytorch]: http://pytorch.org/"
   ]
  },
  {
   "cell_type": "markdown",
   "metadata": {},
   "source": [
    "### Machine Learning Models\n",
    "\n",
    "In _supervised_ learning, we give the model some _training data_. Based on the training data, the model makes predictions about new observations. The variable we want to predict is called the _response_ variable.\n",
    "\n",
    "* continous response $\\implies$ _regression_ model\n",
    "* discrete/categorical response $\\implies$ _classification_ model\n",
    "\n",
    "By doing some math, most supervised learning models apply to either kind of response variable. Examples:\n",
    "\n",
    "* linear/logistic regression (yes, logistic regression is a classification model despite its name)\n",
    "* regression/classification trees\n",
    "* k-nearest neighbors\n",
    "* support vector regression/machine\n",
    "* neural networks\n",
    "\n",
    "In _unsupervised_ learning, the model groups or _clusters_ the observations based on how similar they are. Examples:\n",
    "\n",
    "* k-means clustering\n",
    "* hierarchical clustering"
   ]
  },
  {
   "cell_type": "markdown",
   "metadata": {},
   "source": [
    "### Example 1: Manual Classification"
   ]
  },
  {
   "cell_type": "code",
   "execution_count": 10,
   "metadata": {
    "collapsed": true,
    "scrolled": true
   },
   "outputs": [],
   "source": [
    "%matplotlib inline\n",
    "\n",
    "import matplotlib.pyplot as plt\n",
    "import numpy as np\n",
    "import pandas as pd\n",
    "from plotnine import *\n",
    "import seaborn as sns\n",
    "import sklearn as sk\n",
    "import sklearn.datasets"
   ]
  },
  {
   "cell_type": "code",
   "execution_count": 13,
   "metadata": {
    "scrolled": false
   },
   "outputs": [
    {
     "data": {
      "text/html": [
       "<div>\n",
       "<style scoped>\n",
       "    .dataframe tbody tr th:only-of-type {\n",
       "        vertical-align: middle;\n",
       "    }\n",
       "\n",
       "    .dataframe tbody tr th {\n",
       "        vertical-align: top;\n",
       "    }\n",
       "\n",
       "    .dataframe thead th {\n",
       "        text-align: right;\n",
       "    }\n",
       "</style>\n",
       "<table border=\"1\" class=\"dataframe\">\n",
       "  <thead>\n",
       "    <tr style=\"text-align: right;\">\n",
       "      <th></th>\n",
       "      <th>sepal_length</th>\n",
       "      <th>sepal_width</th>\n",
       "      <th>petal_length</th>\n",
       "      <th>petal_width</th>\n",
       "      <th>species</th>\n",
       "    </tr>\n",
       "  </thead>\n",
       "  <tbody>\n",
       "    <tr>\n",
       "      <th>0</th>\n",
       "      <td>5.1</td>\n",
       "      <td>3.5</td>\n",
       "      <td>1.4</td>\n",
       "      <td>0.2</td>\n",
       "      <td>setosa</td>\n",
       "    </tr>\n",
       "    <tr>\n",
       "      <th>1</th>\n",
       "      <td>4.9</td>\n",
       "      <td>3.0</td>\n",
       "      <td>1.4</td>\n",
       "      <td>0.2</td>\n",
       "      <td>setosa</td>\n",
       "    </tr>\n",
       "    <tr>\n",
       "      <th>2</th>\n",
       "      <td>4.7</td>\n",
       "      <td>3.2</td>\n",
       "      <td>1.3</td>\n",
       "      <td>0.2</td>\n",
       "      <td>setosa</td>\n",
       "    </tr>\n",
       "    <tr>\n",
       "      <th>3</th>\n",
       "      <td>4.6</td>\n",
       "      <td>3.1</td>\n",
       "      <td>1.5</td>\n",
       "      <td>0.2</td>\n",
       "      <td>setosa</td>\n",
       "    </tr>\n",
       "    <tr>\n",
       "      <th>4</th>\n",
       "      <td>5.0</td>\n",
       "      <td>3.6</td>\n",
       "      <td>1.4</td>\n",
       "      <td>0.2</td>\n",
       "      <td>setosa</td>\n",
       "    </tr>\n",
       "  </tbody>\n",
       "</table>\n",
       "</div>"
      ],
      "text/plain": [
       "   sepal_length  sepal_width  petal_length  petal_width species\n",
       "0           5.1          3.5           1.4          0.2  setosa\n",
       "1           4.9          3.0           1.4          0.2  setosa\n",
       "2           4.7          3.2           1.3          0.2  setosa\n",
       "3           4.6          3.1           1.5          0.2  setosa\n",
       "4           5.0          3.6           1.4          0.2  setosa"
      ]
     },
     "execution_count": 13,
     "metadata": {},
     "output_type": "execute_result"
    }
   ],
   "source": [
    "# The iris data set is included with seaborn.\n",
    "iris = sns.load_dataset('iris')\n",
    "iris.head()"
   ]
  },
  {
   "cell_type": "markdown",
   "metadata": {},
   "source": [
    "Can we predict species based on the other four variables?\n",
    "\n",
    "For instance, if an observation has `sepal_length` $> c$ can we say what species it is?\n",
    "\n",
    "How should we choose $c$ to work well for all observations?\n",
    "\n",
    "And should we use `sepal_length`, or some other variable, or a combination of variables?\n",
    "\n",
    "---\n",
    "\n",
    "Based on the pair plot, `sepal_length` is not going to work well. Neither is `sepal_width`.\n",
    "\n",
    "But `petal_length` and `petal_width` might."
   ]
  },
  {
   "cell_type": "code",
   "execution_count": 17,
   "metadata": {},
   "outputs": [
    {
     "data": {
      "text/plain": [
       "<seaborn.axisgrid.PairGrid at 0x7f1781b49908>"
      ]
     },
     "execution_count": 17,
     "metadata": {},
     "output_type": "execute_result"
    },
    {
     "data": {
      "image/png": "[encoded data removed]",
      "text/plain": [
       "<matplotlib.figure.Figure at 0x7f1781b49588>"
      ]
     },
     "metadata": {},
     "output_type": "display_data"
    }
   ],
   "source": [
    "sns.pairplot(iris, hue = 'species')"
   ]
  },
  {
   "cell_type": "markdown",
   "metadata": {},
   "source": [
    "Can we manually come up with a _classifier_ (a set of rules for choosing the species based on the four variables)?"
   ]
  },
  {
   "cell_type": "code",
   "execution_count": 31,
   "metadata": {},
   "outputs": [
    {
     "data": {
      "image/png": "[encoded data removed]",
      "text/plain": [
       "<matplotlib.figure.Figure at 0x7f178562ffd0>"
      ]
     },
     "metadata": {},
     "output_type": "display_data"
    },
    {
     "data": {
      "text/plain": [
       "<ggplot: (8733677108558)>"
      ]
     },
     "execution_count": 31,
     "metadata": {},
     "output_type": "execute_result"
    }
   ],
   "source": [
    "g = ggplot(iris, aes('petal_length', 'species', color = 'species')) + geom_jitter()\n",
    "g += geom_vline(xintercept = 2.5) # guess 2.5\n",
    "g += geom_vline(xintercept = 4.8) # guess 4.8\n",
    "g"
   ]
  },
  {
   "cell_type": "markdown",
   "metadata": {},
   "source": [
    "How can we check how \"good\" our classifier is?"
   ]
  },
  {
   "cell_type": "code",
   "execution_count": 41,
   "metadata": {},
   "outputs": [
    {
     "data": {
      "text/html": [
       "<div>\n",
       "<style scoped>\n",
       "    .dataframe tbody tr th:only-of-type {\n",
       "        vertical-align: middle;\n",
       "    }\n",
       "\n",
       "    .dataframe tbody tr th {\n",
       "        vertical-align: top;\n",
       "    }\n",
       "\n",
       "    .dataframe thead th {\n",
       "        text-align: right;\n",
       "    }\n",
       "</style>\n",
       "<table border=\"1\" class=\"dataframe\">\n",
       "  <thead>\n",
       "    <tr style=\"text-align: right;\">\n",
       "      <th></th>\n",
       "      <th>sepal_length</th>\n",
       "      <th>sepal_width</th>\n",
       "      <th>petal_length</th>\n",
       "      <th>petal_width</th>\n",
       "      <th>species</th>\n",
       "      <th>prediction</th>\n",
       "    </tr>\n",
       "  </thead>\n",
       "  <tbody>\n",
       "    <tr>\n",
       "      <th>0</th>\n",
       "      <td>5.1</td>\n",
       "      <td>3.5</td>\n",
       "      <td>1.4</td>\n",
       "      <td>0.2</td>\n",
       "      <td>setosa</td>\n",
       "      <td>setosa</td>\n",
       "    </tr>\n",
       "    <tr>\n",
       "      <th>1</th>\n",
       "      <td>4.9</td>\n",
       "      <td>3.0</td>\n",
       "      <td>1.4</td>\n",
       "      <td>0.2</td>\n",
       "      <td>setosa</td>\n",
       "      <td>setosa</td>\n",
       "    </tr>\n",
       "    <tr>\n",
       "      <th>2</th>\n",
       "      <td>4.7</td>\n",
       "      <td>3.2</td>\n",
       "      <td>1.3</td>\n",
       "      <td>0.2</td>\n",
       "      <td>setosa</td>\n",
       "      <td>setosa</td>\n",
       "    </tr>\n",
       "    <tr>\n",
       "      <th>3</th>\n",
       "      <td>4.6</td>\n",
       "      <td>3.1</td>\n",
       "      <td>1.5</td>\n",
       "      <td>0.2</td>\n",
       "      <td>setosa</td>\n",
       "      <td>setosa</td>\n",
       "    </tr>\n",
       "    <tr>\n",
       "      <th>4</th>\n",
       "      <td>5.0</td>\n",
       "      <td>3.6</td>\n",
       "      <td>1.4</td>\n",
       "      <td>0.2</td>\n",
       "      <td>setosa</td>\n",
       "      <td>setosa</td>\n",
       "    </tr>\n",
       "  </tbody>\n",
       "</table>\n",
       "</div>"
      ],
      "text/plain": [
       "   sepal_length  sepal_width  petal_length  petal_width species prediction\n",
       "0           5.1          3.5           1.4          0.2  setosa     setosa\n",
       "1           4.9          3.0           1.4          0.2  setosa     setosa\n",
       "2           4.7          3.2           1.3          0.2  setosa     setosa\n",
       "3           4.6          3.1           1.5          0.2  setosa     setosa\n",
       "4           5.0          3.6           1.4          0.2  setosa     setosa"
      ]
     },
     "execution_count": 41,
     "metadata": {},
     "output_type": "execute_result"
    }
   ],
   "source": [
    "iris['prediction'] = 'setosa'\n",
    "iris.loc[iris.petal_length > 2.5, 'prediction'] = 'versicolor'\n",
    "iris.loc[iris.petal_length > 4.8, 'prediction'] = 'virginica'\n",
    "iris.head()"
   ]
  },
  {
   "cell_type": "code",
   "execution_count": 65,
   "metadata": {},
   "outputs": [
    {
     "data": {
      "text/html": [
       "<div>\n",
       "<style scoped>\n",
       "    .dataframe tbody tr th:only-of-type {\n",
       "        vertical-align: middle;\n",
       "    }\n",
       "\n",
       "    .dataframe tbody tr th {\n",
       "        vertical-align: top;\n",
       "    }\n",
       "\n",
       "    .dataframe thead th {\n",
       "        text-align: right;\n",
       "    }\n",
       "</style>\n",
       "<table border=\"1\" class=\"dataframe\">\n",
       "  <thead>\n",
       "    <tr style=\"text-align: right;\">\n",
       "      <th>prediction</th>\n",
       "      <th>setosa</th>\n",
       "      <th>versicolor</th>\n",
       "      <th>virginica</th>\n",
       "    </tr>\n",
       "    <tr>\n",
       "      <th>species</th>\n",
       "      <th></th>\n",
       "      <th></th>\n",
       "      <th></th>\n",
       "    </tr>\n",
       "  </thead>\n",
       "  <tbody>\n",
       "    <tr>\n",
       "      <th>setosa</th>\n",
       "      <td>50</td>\n",
       "      <td>0</td>\n",
       "      <td>0</td>\n",
       "    </tr>\n",
       "    <tr>\n",
       "      <th>versicolor</th>\n",
       "      <td>0</td>\n",
       "      <td>46</td>\n",
       "      <td>4</td>\n",
       "    </tr>\n",
       "    <tr>\n",
       "      <th>virginica</th>\n",
       "      <td>0</td>\n",
       "      <td>3</td>\n",
       "      <td>47</td>\n",
       "    </tr>\n",
       "  </tbody>\n",
       "</table>\n",
       "</div>"
      ],
      "text/plain": [
       "prediction  setosa  versicolor  virginica\n",
       "species                                  \n",
       "setosa          50           0          0\n",
       "versicolor       0          46          4\n",
       "virginica        0           3         47"
      ]
     },
     "execution_count": 65,
     "metadata": {},
     "output_type": "execute_result"
    }
   ],
   "source": [
    "# Make a confusion matrix.\n",
    "pd.crosstab(iris.species, iris.prediction)"
   ]
  },
  {
   "cell_type": "markdown",
   "metadata": {},
   "source": [
    "### Example 2: Recall and Precision"
   ]
  },
  {
   "cell_type": "markdown",
   "metadata": {},
   "source": [
    "If we ignore setosa, there are only two classes (a _binary_ classification problem)."
   ]
  },
  {
   "cell_type": "code",
   "execution_count": 115,
   "metadata": {
    "collapsed": true
   },
   "outputs": [],
   "source": [
    "iris2 = iris[iris.species != 'setosa'].copy()"
   ]
  },
  {
   "cell_type": "code",
   "execution_count": 89,
   "metadata": {},
   "outputs": [
    {
     "data": {
      "text/html": [
       "<div>\n",
       "<style scoped>\n",
       "    .dataframe tbody tr th:only-of-type {\n",
       "        vertical-align: middle;\n",
       "    }\n",
       "\n",
       "    .dataframe tbody tr th {\n",
       "        vertical-align: top;\n",
       "    }\n",
       "\n",
       "    .dataframe thead th {\n",
       "        text-align: right;\n",
       "    }\n",
       "</style>\n",
       "<table border=\"1\" class=\"dataframe\">\n",
       "  <thead>\n",
       "    <tr style=\"text-align: right;\">\n",
       "      <th>prediction</th>\n",
       "      <th>versicolor</th>\n",
       "      <th>virginica</th>\n",
       "    </tr>\n",
       "    <tr>\n",
       "      <th>species</th>\n",
       "      <th></th>\n",
       "      <th></th>\n",
       "    </tr>\n",
       "  </thead>\n",
       "  <tbody>\n",
       "    <tr>\n",
       "      <th>versicolor</th>\n",
       "      <td>46</td>\n",
       "      <td>4</td>\n",
       "    </tr>\n",
       "    <tr>\n",
       "      <th>virginica</th>\n",
       "      <td>3</td>\n",
       "      <td>47</td>\n",
       "    </tr>\n",
       "  </tbody>\n",
       "</table>\n",
       "</div>"
      ],
      "text/plain": [
       "prediction  versicolor  virginica\n",
       "species                          \n",
       "versicolor          46          4\n",
       "virginica            3         47"
      ]
     },
     "execution_count": 89,
     "metadata": {},
     "output_type": "execute_result"
    }
   ],
   "source": [
    "cm = pd.crosstab(iris2.species, iris2.prediction)\n",
    "cm"
   ]
  },
  {
   "cell_type": "markdown",
   "metadata": {},
   "source": [
    "In this case, we can think of one class as \"positive\" and one class as \"negative\".\n",
    "\n",
    "Let's say versicolor is \"positive\". Then our confusion matrix has counts for four possibilities:\n",
    "\n",
    "True Positive | False Negative\n",
    ":---|:----\n",
    "__False Positive__ | __True Negative__\n",
    "\n",
    "We can use this to compute three statistics:\n",
    "\n",
    "\\begin{align*}\n",
    "\\frac{ \\textrm{TP} }{ \\textrm{TP + FN} } &= \\textrm{True Positive Rate or Recall} &\\textit{higher is better}\n",
    "\\\\\n",
    "\\frac{ \\textrm{FP} }{ \\textrm{FP + TN} } &= \\textrm{False Positive Rate} &\\textit{lower is better}\n",
    "\\\\\n",
    "\\frac{ \\textrm{TP} }{ \\textrm{TP + FP} } &= \\textrm{Precision} &\\textit{higher is better}\n",
    "\\end{align*}\n",
    "\n",
    "Recall and precision emphasize predicting the \"positive\" class correctly. They change as we change our classifier."
   ]
  },
  {
   "cell_type": "code",
   "execution_count": 86,
   "metadata": {
    "collapsed": true
   },
   "outputs": [],
   "source": [
    "def recall(cm):\n",
    "    return cm.iloc[0, 0] / (cm.iloc[0, 0] + cm.iloc[0, 1])\n",
    "\n",
    "def precision(cm):\n",
    "    return cm.iloc[0, 0] / (cm.iloc[0, 0] + cm.iloc[1, 0])"
   ]
  },
  {
   "cell_type": "code",
   "execution_count": 90,
   "metadata": {},
   "outputs": [
    {
     "data": {
      "text/plain": [
       "'Recall: 0.920, Precision: 0.939'"
      ]
     },
     "execution_count": 90,
     "metadata": {},
     "output_type": "execute_result"
    }
   ],
   "source": [
    "\"Recall: {:.3f}, Precision: {:.3f}\".format(recall(cm), precision(cm))"
   ]
  },
  {
   "cell_type": "code",
   "execution_count": 94,
   "metadata": {},
   "outputs": [
    {
     "data": {
      "text/html": [
       "<div>\n",
       "<style scoped>\n",
       "    .dataframe tbody tr th:only-of-type {\n",
       "        vertical-align: middle;\n",
       "    }\n",
       "\n",
       "    .dataframe tbody tr th {\n",
       "        vertical-align: top;\n",
       "    }\n",
       "\n",
       "    .dataframe thead th {\n",
       "        text-align: right;\n",
       "    }\n",
       "</style>\n",
       "<table border=\"1\" class=\"dataframe\">\n",
       "  <thead>\n",
       "    <tr style=\"text-align: right;\">\n",
       "      <th>petal_length</th>\n",
       "      <th>False</th>\n",
       "      <th>True</th>\n",
       "    </tr>\n",
       "    <tr>\n",
       "      <th>species</th>\n",
       "      <th></th>\n",
       "      <th></th>\n",
       "    </tr>\n",
       "  </thead>\n",
       "  <tbody>\n",
       "    <tr>\n",
       "      <th>versicolor</th>\n",
       "      <td>4</td>\n",
       "      <td>46</td>\n",
       "    </tr>\n",
       "    <tr>\n",
       "      <th>virginica</th>\n",
       "      <td>47</td>\n",
       "      <td>3</td>\n",
       "    </tr>\n",
       "  </tbody>\n",
       "</table>\n",
       "</div>"
      ],
      "text/plain": [
       "petal_length  False  True \n",
       "species                   \n",
       "versicolor        4     46\n",
       "virginica        47      3"
      ]
     },
     "execution_count": 94,
     "metadata": {},
     "output_type": "execute_result"
    }
   ],
   "source": [
    "pd.crosstab(iris2.species, iris2.petal_length <= 4.8)"
   ]
  },
  {
   "cell_type": "code",
   "execution_count": 95,
   "metadata": {},
   "outputs": [
    {
     "data": {
      "text/html": [
       "<div>\n",
       "<style scoped>\n",
       "    .dataframe tbody tr th:only-of-type {\n",
       "        vertical-align: middle;\n",
       "    }\n",
       "\n",
       "    .dataframe tbody tr th {\n",
       "        vertical-align: top;\n",
       "    }\n",
       "\n",
       "    .dataframe thead th {\n",
       "        text-align: right;\n",
       "    }\n",
       "</style>\n",
       "<table border=\"1\" class=\"dataframe\">\n",
       "  <thead>\n",
       "    <tr style=\"text-align: right;\">\n",
       "      <th></th>\n",
       "      <th>petal_length</th>\n",
       "      <th>recall</th>\n",
       "      <th>precision</th>\n",
       "    </tr>\n",
       "  </thead>\n",
       "  <tbody>\n",
       "    <tr>\n",
       "      <th>0</th>\n",
       "      <td>4.0</td>\n",
       "      <td>0.22</td>\n",
       "      <td>1.000000</td>\n",
       "    </tr>\n",
       "    <tr>\n",
       "      <th>1</th>\n",
       "      <td>4.4</td>\n",
       "      <td>0.50</td>\n",
       "      <td>1.000000</td>\n",
       "    </tr>\n",
       "    <tr>\n",
       "      <th>2</th>\n",
       "      <td>4.8</td>\n",
       "      <td>0.88</td>\n",
       "      <td>0.977778</td>\n",
       "    </tr>\n",
       "    <tr>\n",
       "      <th>3</th>\n",
       "      <td>5.2</td>\n",
       "      <td>1.00</td>\n",
       "      <td>0.757576</td>\n",
       "    </tr>\n",
       "    <tr>\n",
       "      <th>4</th>\n",
       "      <td>5.6</td>\n",
       "      <td>1.00</td>\n",
       "      <td>0.666667</td>\n",
       "    </tr>\n",
       "    <tr>\n",
       "      <th>5</th>\n",
       "      <td>6.0</td>\n",
       "      <td>1.00</td>\n",
       "      <td>0.561798</td>\n",
       "    </tr>\n",
       "  </tbody>\n",
       "</table>\n",
       "</div>"
      ],
      "text/plain": [
       "   petal_length  recall  precision\n",
       "0           4.0    0.22   1.000000\n",
       "1           4.4    0.50   1.000000\n",
       "2           4.8    0.88   0.977778\n",
       "3           5.2    1.00   0.757576\n",
       "4           5.6    1.00   0.666667\n",
       "5           6.0    1.00   0.561798"
      ]
     },
     "execution_count": 95,
     "metadata": {},
     "output_type": "execute_result"
    }
   ],
   "source": [
    "pr_curve = []\n",
    "for x in np.linspace(4, 6, 6):\n",
    "    predicted = np.where(iris2.petal_length < x, 'versicolor', 'virginica')\n",
    "    cm = pd.crosstab(iris2.species, predicted)\n",
    "    pr_curve.append((x, recall(cm), precision(cm)))\n",
    "    \n",
    "pr_curve = pd.DataFrame(pr_curve)\n",
    "pr_curve.columns = ['petal_length', 'recall', 'precision']\n",
    "pr_curve"
   ]
  },
  {
   "cell_type": "code",
   "execution_count": 97,
   "metadata": {},
   "outputs": [
    {
     "data": {
      "image/png": "[encoded data removed]",
      "text/plain": [
       "<matplotlib.figure.Figure at 0x7f177aa66630>"
      ]
     },
     "metadata": {},
     "output_type": "display_data"
    },
    {
     "data": {
      "text/plain": [
       "<ggplot: (8733676737947)>"
      ]
     },
     "execution_count": 97,
     "metadata": {},
     "output_type": "execute_result"
    }
   ],
   "source": [
    "ggplot(pr_curve, aes('recall', 'precision')) + geom_line() + geom_text(aes(label = 'petal_length'))"
   ]
  },
  {
   "cell_type": "markdown",
   "metadata": {},
   "source": [
    "Do recall and precision make sense when there are more than two classes?"
   ]
  },
  {
   "cell_type": "markdown",
   "metadata": {},
   "source": [
    "### Example 3: Logistic Regression\n",
    "\n",
    "Linear regression fits a model\n",
    "$$\n",
    "y_i = \\beta_0 + \\beta_1 x_i\n",
    "$$\n",
    "where $y$ is a continuous variable.\n",
    "\n",
    "We can't use species as $y$ in a linear regression since species is not continuous.\n",
    "\n",
    "Instead let's assume there's some probability $p_i$ of the positive class (versicolor) for each observation. In other words, the data looks like:"
   ]
  },
  {
   "cell_type": "code",
   "execution_count": null,
   "metadata": {
    "collapsed": true
   },
   "outputs": [],
   "source": [
    "# Drop 'prediction' column.\n",
    "iris2.drop(columns = 'predicition', inplace = True)"
   ]
  },
  {
   "cell_type": "code",
   "execution_count": 123,
   "metadata": {},
   "outputs": [
    {
     "data": {
      "text/html": [
       "<div>\n",
       "<style scoped>\n",
       "    .dataframe tbody tr th:only-of-type {\n",
       "        vertical-align: middle;\n",
       "    }\n",
       "\n",
       "    .dataframe tbody tr th {\n",
       "        vertical-align: top;\n",
       "    }\n",
       "\n",
       "    .dataframe thead th {\n",
       "        text-align: right;\n",
       "    }\n",
       "</style>\n",
       "<table border=\"1\" class=\"dataframe\">\n",
       "  <thead>\n",
       "    <tr style=\"text-align: right;\">\n",
       "      <th></th>\n",
       "      <th>sepal_length</th>\n",
       "      <th>sepal_width</th>\n",
       "      <th>petal_length</th>\n",
       "      <th>petal_width</th>\n",
       "      <th>species</th>\n",
       "      <th>p</th>\n",
       "    </tr>\n",
       "  </thead>\n",
       "  <tbody>\n",
       "    <tr>\n",
       "      <th>50</th>\n",
       "      <td>7.0</td>\n",
       "      <td>3.2</td>\n",
       "      <td>4.7</td>\n",
       "      <td>1.4</td>\n",
       "      <td>versicolor</td>\n",
       "      <td>0.390220</td>\n",
       "    </tr>\n",
       "    <tr>\n",
       "      <th>51</th>\n",
       "      <td>6.4</td>\n",
       "      <td>3.2</td>\n",
       "      <td>4.5</td>\n",
       "      <td>1.5</td>\n",
       "      <td>versicolor</td>\n",
       "      <td>0.042375</td>\n",
       "    </tr>\n",
       "    <tr>\n",
       "      <th>52</th>\n",
       "      <td>6.9</td>\n",
       "      <td>3.1</td>\n",
       "      <td>4.9</td>\n",
       "      <td>1.5</td>\n",
       "      <td>versicolor</td>\n",
       "      <td>0.141776</td>\n",
       "    </tr>\n",
       "    <tr>\n",
       "      <th>53</th>\n",
       "      <td>5.5</td>\n",
       "      <td>2.3</td>\n",
       "      <td>4.0</td>\n",
       "      <td>1.3</td>\n",
       "      <td>versicolor</td>\n",
       "      <td>0.149856</td>\n",
       "    </tr>\n",
       "    <tr>\n",
       "      <th>54</th>\n",
       "      <td>6.5</td>\n",
       "      <td>2.8</td>\n",
       "      <td>4.6</td>\n",
       "      <td>1.5</td>\n",
       "      <td>versicolor</td>\n",
       "      <td>0.257866</td>\n",
       "    </tr>\n",
       "  </tbody>\n",
       "</table>\n",
       "</div>"
      ],
      "text/plain": [
       "    sepal_length  sepal_width  petal_length  petal_width     species         p\n",
       "50           7.0          3.2           4.7          1.4  versicolor  0.390220\n",
       "51           6.4          3.2           4.5          1.5  versicolor  0.042375\n",
       "52           6.9          3.1           4.9          1.5  versicolor  0.141776\n",
       "53           5.5          2.3           4.0          1.3  versicolor  0.149856\n",
       "54           6.5          2.8           4.6          1.5  versicolor  0.257866"
      ]
     },
     "execution_count": 123,
     "metadata": {},
     "output_type": "execute_result"
    }
   ],
   "source": [
    "# Make up some fake values of p.\n",
    "iris2['p'] = np.random.rand(iris2.shape[0])\n",
    "iris2.head()"
   ]
  },
  {
   "cell_type": "markdown",
   "metadata": {},
   "source": [
    "Of course, these values of $p_i$ are made up. In reality, we can't see $p_i$. But $p_i$ is continuous, so we can predict it!\n",
    "\n",
    "In that case the linear model is\n",
    "$$\n",
    "p_i = \\beta_0 + \\beta_1 x_i\n",
    "$$\n",
    "\n",
    "This is still a little bit silly. The probabilities $p_i$ must be in the interval $[0, 1]$, but $\\beta_0 + \\beta_1 x_i$ can be any number. So this model might occasionally predict a probability less than $0$ or greater than $1$."
   ]
  },
  {
   "cell_type": "markdown",
   "metadata": {},
   "source": [
    "We can fix this by transforming the response $p_i$ so that it can be any number. One way to do this is with the _logit function_ (this is not the only possibility). After the logit transformation, the model is:\n",
    "\n",
    "$$\n",
    "\\log\\bigg(\\frac{p_i}{1 - p_i}\\bigg) = \\beta_0 + \\beta_1 x_i\n",
    "$$\n",
    "\n",
    "Now the model makes sense."
   ]
  },
  {
   "cell_type": "markdown",
   "metadata": {},
   "source": [
    "#### How To Fit The Model\n",
    "\n",
    "In a linear model we usually fit the model by _least squares_. That means we find $\\beta_0$ and $\\beta_1$ to minimize the squared error\n",
    "\n",
    "$$\n",
    "\\sum_i \\big\\lvert y_i - (\\beta_0 + \\beta_1 x_i) \\big\\rvert^2\n",
    "$$\n",
    "\n",
    "In order to use least squares, we need to know $y_i$. So how we can fit the logistic model if we don't know $p_i$?\n",
    "\n",
    "Rather than using least squares, we can fit a logistic model by _maximum likelihood_. The idea is that there is some \"total\" probability of the training data we have observed. <span style=\"background-color:#AFA\">Assuming</span> the observations are independent, this probability is\n",
    "\n",
    "$$\n",
    "\\prod_i p_i^{\\ell_i} (1 - p_i)^{1 - \\ell_i}\n",
    "$$\n",
    "\n",
    "where $\\ell_i$ is the class label encoded as $0$ or $1$. In the iris example, virginica is $0$ and versicolor is $1$. We can solve our model for $p_i$ to get the substitution\n",
    "\n",
    "$$\n",
    "p_i = \\frac{1}{1 + \\exp\\big(-(\\beta_0 + \\beta_1 x_i)\\big)}\n",
    "$$\n",
    "\n",
    "Finally, it's reasonable to <span style=\"background-color:#AFA\">assume</span> that the probability of the data we actually have is high (because otherwise we would likely have different data). So we find $\\beta_0$ and $\\beta_1$ to maximize that probability."
   ]
  },
  {
   "cell_type": "code",
   "execution_count": 109,
   "metadata": {
    "collapsed": true
   },
   "outputs": [],
   "source": [
    "import sklearn.linear_model\n",
    "\n",
    "lr = sk.linear_model.LogisticRegression()\n",
    "fitted = lr.fit(iris2.petal_length.values.reshape(-1, 1), iris2.species)"
   ]
  },
  {
   "cell_type": "code",
   "execution_count": 110,
   "metadata": {},
   "outputs": [
    {
     "name": "stdout",
     "output_type": "stream",
     "text": [
      "[[0.82179781]]\n",
      "[-3.85717301]\n"
     ]
    }
   ],
   "source": [
    "print(fitted.coef_)\n",
    "print(fitted.intercept_)"
   ]
  }
 ],
 "metadata": {
  "kernelspec": {
   "display_name": "Python 3",
   "language": "python",
   "name": "python3"
  },
  "language_info": {
   "codemirror_mode": {
    "name": "ipython",
    "version": 3
   },
   "file_extension": ".py",
   "mimetype": "text/x-python",
   "name": "python",
   "nbconvert_exporter": "python",
   "pygments_lexer": "ipython3",
   "version": "3.6.4"
  }
 },
 "nbformat": 4,
 "nbformat_minor": 2
}
